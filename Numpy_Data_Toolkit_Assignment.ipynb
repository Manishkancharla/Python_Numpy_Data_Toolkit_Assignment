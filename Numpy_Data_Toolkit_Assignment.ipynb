{
  "nbformat": 4,
  "nbformat_minor": 0,
  "metadata": {
    "colab": {
      "provenance": [],
      "authorship_tag": "ABX9TyM22GVQJSjgyUDyCRZrXGKh",
      "include_colab_link": true
    },
    "kernelspec": {
      "name": "python3",
      "display_name": "Python 3"
    },
    "language_info": {
      "name": "python"
    }
  },
  "cells": [
    {
      "cell_type": "markdown",
      "metadata": {
        "id": "view-in-github",
        "colab_type": "text"
      },
      "source": [
        "<a href=\"https://colab.research.google.com/github/Manishkancharla/Python_Numpy_Data_Toolkit_Assignment/blob/main/Numpy_Data_Toolkit_Assignment.ipynb\" target=\"_parent\"><img src=\"https://colab.research.google.com/assets/colab-badge.svg\" alt=\"Open In Colab\"/></a>"
      ]
    },
    {
      "cell_type": "markdown",
      "source": [
        "Theoretical Questions:\n"
      ],
      "metadata": {
        "id": "cP88qM8wuL04"
      }
    },
    {
      "cell_type": "markdown",
      "source": [
        "1)  Explain the purpose and advantages of NumPy in scientific computing and data analysis. How does it\n",
        "enhance Python's capabilities for numerical operations?"
      ],
      "metadata": {
        "id": "WLa-a3etuU_s"
      }
    },
    {
      "cell_type": "code",
      "source": [
        "# Advantages of NumPy in Scientific Computing :\n",
        "# Performance and Speed: Written in C, NumPy is much faster than native Python lists due to optimized computations.\n",
        "# Ease of Use: Simplifies complex mathematical operations with concise, readable syntax.\n",
        "# Data Analysis and Processing: Supports efficient data manipulation, making it ideal for tasks like statistical analysis, simulations, and scientific research.\n",
        "# Cross-Platform Compatibility: Works on various platforms and supports many file formats like CSV, Excel, and binary files.\n",
        "# Data Storage and Interoperability: Facilitates reading/writing large datasets and exchanging data between different libraries.\n",
        "\n",
        "# How NumPy Enhances Python's Numerical Capabilities :\n",
        "# Faster Computation: Uses C-based implementation for performance-critical operations.\n",
        "# Array Operations: Supports multi-dimensional array creation, slicing, and reshaping, making data manipulation straightforward.\n",
        "# Efficient Memory Usage: Manages memory more efficiently by using fixed-type arrays and minimizing overhead.\n",
        "# Vectorization and Broadcasting: Reduces the need for explicit loops, enabling vectorized computations that speed up calculations.\n",
        "# Support for Complex Mathematical Operations: Implements numerical algorithms like matrix decomposition, Fourier transforms, and random number generation.\n",
        "import numpy as np\n",
        "\n",
        "# Create two large arrays\n",
        "a = np.random.rand(1000000)\n",
        "b = np.random.rand(1000000)\n",
        "\n",
        "# Perform element-wise addition using NumPy\n",
        "result = a + b\n",
        "print(f\"First 5 results: {result[:5]}\")\n"
      ],
      "metadata": {
        "colab": {
          "base_uri": "https://localhost:8080/"
        },
        "id": "teDuR9cMu4ST",
        "outputId": "7f3702d1-ac40-4793-c9f7-dc9279ab3ea1"
      },
      "execution_count": 4,
      "outputs": [
        {
          "output_type": "stream",
          "name": "stdout",
          "text": [
            "First 5 results: [1.02836026 0.62429277 0.43514857 1.32895913 0.66506124]\n"
          ]
        }
      ]
    },
    {
      "cell_type": "markdown",
      "source": [
        "2)  Compare and contrast np.mean() and np.average() functions in NumPy. When would you use one over the\n",
        "other?"
      ],
      "metadata": {
        "id": "DLVcblPcuLbD"
      }
    },
    {
      "cell_type": "code",
      "source": [
        "# Both np.mean() and np.average() are used to compute the average value of elements in a NumPy array, but they have important differences in terms of functionality, flexibility, and use cases.\n",
        "# np.mean() : Calculates the arithmetic mean (average) of array elements along a specified axis.\n",
        "# Syntax : np.mean(array, axis=None, dtype=None)\n",
        "import numpy as np\n",
        "\n",
        "data = np.array([[1, 2, 3], [4, 5, 6]])\n",
        "print(\"Mean of all elements:\", np.mean(data))\n",
        "print(\"Mean along rows:\", np.mean(data, axis=1))\n",
        "\n"
      ],
      "metadata": {
        "colab": {
          "base_uri": "https://localhost:8080/"
        },
        "id": "aSPt1w4MvqtM",
        "outputId": "455f2fa4-0970-4b35-e74a-7d4c29cfb8a8"
      },
      "execution_count": 5,
      "outputs": [
        {
          "output_type": "stream",
          "name": "stdout",
          "text": [
            "Mean of all elements: 3.5\n",
            "Mean along rows: [2. 5.]\n"
          ]
        }
      ]
    },
    {
      "cell_type": "code",
      "source": [
        "# np.average() : Calculates the weighted average of elements, optionally using specified weights.\n",
        "# Syntax : np.average(array, axis=None, weights=None, returned=False)\n",
        "weights = np.array([0.2, 0.3, 0.5])\n",
        "values = np.array([70, 80, 90])\n",
        "\n",
        "# Calculate weighted average\n",
        "weighted_avg = np.average(values, weights=weights)\n",
        "print(\"Weighted Average:\", weighted_avg)\n"
      ],
      "metadata": {
        "colab": {
          "base_uri": "https://localhost:8080/"
        },
        "id": "CXqU0npewYXa",
        "outputId": "caf19339-becc-4e67-99b9-46a6c347e087"
      },
      "execution_count": 6,
      "outputs": [
        {
          "output_type": "stream",
          "name": "stdout",
          "text": [
            "Weighted Average: 83.0\n"
          ]
        }
      ]
    },
    {
      "cell_type": "markdown",
      "source": [
        "3)  Describe the methods for reversing a NumPy array along different axes. Provide examples for 1D and 2D\n",
        "arrays?"
      ],
      "metadata": {
        "id": "_zOyI4E8uLTh"
      }
    },
    {
      "cell_type": "code",
      "source": [
        "# Reversing a NumPy array involves changing the order of elements along specified axes. This operation is useful in data preprocessing, manipulation, and analysis. Let’s explore methods for reversing arrays in different dimensions.\n",
        "# Reversing a 1D NumPy Array :-\n",
        "import numpy as np\n",
        "\n",
        "# 1D Array\n",
        "arr_1d = np.array([10, 20, 30, 40, 50])\n",
        "\n",
        "# Reverse using slicing\n",
        "reversed_1d = arr_1d[::-1]\n",
        "print(\"Original 1D Array:\", arr_1d)\n",
        "print(\"Reversed 1D Array:\", reversed_1d)\n"
      ],
      "metadata": {
        "colab": {
          "base_uri": "https://localhost:8080/"
        },
        "id": "G2bWIFMTxEvW",
        "outputId": "fa33c632-6f59-4427-802b-730e1aa30ebd"
      },
      "execution_count": 7,
      "outputs": [
        {
          "output_type": "stream",
          "name": "stdout",
          "text": [
            "Original 1D Array: [10 20 30 40 50]\n",
            "Reversed 1D Array: [50 40 30 20 10]\n"
          ]
        }
      ]
    },
    {
      "cell_type": "code",
      "source": [
        "# Reversing a 2D NumPy Array :-\n",
        "# 2D Array\n",
        "arr_2d = np.array([[1, 2, 3], [4, 5, 6], [7, 8, 9]])\n",
        "\n",
        "# Reverse rows\n",
        "reverse_rows = arr_2d[::-1]\n",
        "print(\"Original 2D Array:\\n\", arr_2d)\n",
        "print(\"Rows Reversed:\\n\", reverse_rows)\n"
      ],
      "metadata": {
        "colab": {
          "base_uri": "https://localhost:8080/"
        },
        "id": "wuL5Ri3txPuP",
        "outputId": "1d5d4bc4-fe69-48a8-ba03-fae270e2b97f"
      },
      "execution_count": 8,
      "outputs": [
        {
          "output_type": "stream",
          "name": "stdout",
          "text": [
            "Original 2D Array:\n",
            " [[1 2 3]\n",
            " [4 5 6]\n",
            " [7 8 9]]\n",
            "Rows Reversed:\n",
            " [[7 8 9]\n",
            " [4 5 6]\n",
            " [1 2 3]]\n"
          ]
        }
      ]
    },
    {
      "cell_type": "markdown",
      "source": [
        "4)  How can you determine the data type of elements in a NumPy array? Discuss the importance of data types\n",
        "in memory management and performance?"
      ],
      "metadata": {
        "id": "Y6sQYTnVuLLJ"
      }
    },
    {
      "cell_type": "code",
      "source": [
        "# In NumPy, every array has a data type (dtype) that defines the type of elements stored in the array. You can determine this using various methods:\n",
        "# Using dtype Attribute :-\n",
        "import numpy as np\n",
        "\n",
        "# Creating an array\n",
        "arr = np.array([1, 2, 3, 4, 5])\n",
        "print(\"Data Type:\", arr.dtype)\n"
      ],
      "metadata": {
        "colab": {
          "base_uri": "https://localhost:8080/"
        },
        "id": "0OQVNYRsx1DD",
        "outputId": "a90e6ee5-755d-4aeb-9ff9-b2d54f03842d"
      },
      "execution_count": 9,
      "outputs": [
        {
          "output_type": "stream",
          "name": "stdout",
          "text": [
            "Data Type: int64\n"
          ]
        }
      ]
    },
    {
      "cell_type": "code",
      "source": [
        "# Using type() Function :-\n",
        "print(\"Array Type:\", type(arr))\n"
      ],
      "metadata": {
        "colab": {
          "base_uri": "https://localhost:8080/"
        },
        "id": "v4qgUiYsx0kk",
        "outputId": "de6335e8-341b-41f9-dba5-25a4ab051b00"
      },
      "execution_count": 10,
      "outputs": [
        {
          "output_type": "stream",
          "name": "stdout",
          "text": [
            "Array Type: <class 'numpy.ndarray'>\n"
          ]
        }
      ]
    },
    {
      "cell_type": "code",
      "source": [
        "# Specifying Data Type During Array Creation :-\n",
        "arr_float = np.array([1, 2, 3], dtype=float)\n",
        "print(\"Data Type:\", arr_float.dtype)\n"
      ],
      "metadata": {
        "colab": {
          "base_uri": "https://localhost:8080/"
        },
        "id": "xHV2hj40x0b-",
        "outputId": "0dee7bf4-ae94-4c8c-fc4f-eef0d9b36440"
      },
      "execution_count": 11,
      "outputs": [
        {
          "output_type": "stream",
          "name": "stdout",
          "text": [
            "Data Type: float64\n"
          ]
        }
      ]
    },
    {
      "cell_type": "code",
      "source": [
        "# Using astype() for Type Conversion :-\n",
        "# Convert to another data type\n",
        "arr_converted = arr.astype(np.float32)\n",
        "print(\"Converted Data Type:\", arr_converted.dtype)\n",
        "\n",
        "# Importance of Data Types in Memory Management and Performance :-\n",
        "# Memory Efficiency: NumPy arrays use fixed-size memory blocks, determined by the data type.\n",
        "# Example: int32 uses 4 bytes, while int64 uses 8 bytes. Choosing the correct data type minimizes memory usage.\n",
        "# Performance Optimization: Fixed data types enable efficient storage and faster access to elements. Operations on homogeneous arrays are faster than on Python lists due to reduced overhead.\n",
        "# Data Compatibility: Selecting an appropriate data type ensures compatibility with external systems, files, and libraries.\n",
        "# Precision and Accuracy: Use float64 for high-precision calculations. Choose int8, int16, or float32 when memory usage matters more than precision.\n"
      ],
      "metadata": {
        "colab": {
          "base_uri": "https://localhost:8080/"
        },
        "id": "6Y9ggGaPx0a2",
        "outputId": "6979fc5c-9b78-4573-ff3a-708c804ca307"
      },
      "execution_count": 12,
      "outputs": [
        {
          "output_type": "stream",
          "name": "stdout",
          "text": [
            "Converted Data Type: float32\n"
          ]
        }
      ]
    },
    {
      "cell_type": "markdown",
      "source": [
        "5) Define ndarrays in NumPy and explain their key features. How do they differ from standard Python lists?"
      ],
      "metadata": {
        "id": "8C_4p1BYy-lz"
      }
    },
    {
      "cell_type": "code",
      "source": [
        "# An ndarray (N-dimensional array) is the core data structure of the NumPy library. It represents a multi-dimensional, homogeneous array of fixed-size elements, all of the same data type (dtype). It supports efficient numerical computations and provides various methods for array operations.\n",
        "# Key Features of ndarray in NumPy :-\n",
        "# Multidimensional Structure: Supports arrays of any dimension (1D, 2D, 3D, etc.). Shape of the array is defined by a tuple of integers.\n",
        "# Homogeneous Elements: All elements must have the same data type, ensuring efficient memory storage.\n",
        "# Efficient Memory Management: Stored in contiguous memory blocks, enabling fast data access and operations.\n",
        "# Broadcasting Support: Performs element-wise operations on arrays of different shapes through broadcasting.\n",
        "# Built-in Functions: Supports built-in mathematical, statistical, and linear algebra functions.\n",
        "# Indexing and Slicing: Advanced slicing, indexing, and boolean filtering capabilities.\n",
        "# Type Flexibility: Supports many data types such as integers, floats, complex numbers, and custom data types.\n",
        "# Integration: Works seamlessly with libraries like Pandas, SciPy, and TensorFlow.\n",
        "# Comparison Between ndarray and Python List :-\n",
        "# Element-wise Addition With Python Lists:\n",
        "list_a = [1, 2, 3]\n",
        "list_b = [4, 5, 6]\n",
        "\n",
        "# Manual addition using list comprehension\n",
        "result_list = [x + y for x, y in zip(list_a, list_b)]\n",
        "print(\"List Result:\", result_list)\n",
        "\n"
      ],
      "metadata": {
        "colab": {
          "base_uri": "https://localhost:8080/"
        },
        "id": "ZUVFRVDUx4BV",
        "outputId": "84741873-3c46-4e5a-ba22-226966b707e1"
      },
      "execution_count": 13,
      "outputs": [
        {
          "output_type": "stream",
          "name": "stdout",
          "text": [
            "List Result: [5, 7, 9]\n"
          ]
        }
      ]
    },
    {
      "cell_type": "code",
      "source": [
        "# With NumPy ndarray :\n",
        "import numpy as np\n",
        "\n",
        "arr_a = np.array([1, 2, 3])\n",
        "arr_b = np.array([4, 5, 6])\n",
        "\n",
        "# Element-wise addition\n",
        "result_array = arr_a + arr_b\n",
        "print(\"NumPy Array Result:\", result_array)\n"
      ],
      "metadata": {
        "colab": {
          "base_uri": "https://localhost:8080/"
        },
        "id": "9IlvTleb0Gtf",
        "outputId": "e9d180eb-7a35-4aa9-f3c9-799d8b2b11d2"
      },
      "execution_count": 14,
      "outputs": [
        {
          "output_type": "stream",
          "name": "stdout",
          "text": [
            "NumPy Array Result: [5 7 9]\n"
          ]
        }
      ]
    },
    {
      "cell_type": "markdown",
      "source": [
        "6) Analyze the performance benefits of NumPy arrays over Python lists for large-scale numerical operations?"
      ],
      "metadata": {
        "id": "SDvxX8XDuLDR"
      }
    },
    {
      "cell_type": "code",
      "source": [
        "# NumPy arrays (ndarray) offer significant performance advantages over Python lists for large-scale numerical operations due to several design optimizations. Let’s explore key aspects contributing to NumPy’s performance superiority.\n",
        "# Memory Efficiency :-\n",
        "# Fixed Data Type: All elements in a NumPy array have the same data type, unlike Python lists, which allow mixed types.\n",
        "# Contiguous Memory Allocation: NumPy arrays are stored in contiguous memory blocks, enabling efficient memory management and reducing overhead.\n",
        "import numpy as np\n",
        "import sys\n",
        "\n",
        "# Memory usage comparison\n",
        "py_list = list(range(1000000))\n",
        "np_array = np.arange(1000000)\n",
        "\n",
        "print(\"Memory used by Python list:\", sys.getsizeof(py_list), \"bytes\")\n",
        "print(\"Memory used by NumPy array:\", np_array.nbytes, \"bytes\")\n"
      ],
      "metadata": {
        "colab": {
          "base_uri": "https://localhost:8080/"
        },
        "id": "YE5KBXFA7Wmf",
        "outputId": "40f626b5-cc33-4b7b-cd04-c9c52ddf1a59"
      },
      "execution_count": 15,
      "outputs": [
        {
          "output_type": "stream",
          "name": "stdout",
          "text": [
            "Memory used by Python list: 8000056 bytes\n",
            "Memory used by NumPy array: 8000000 bytes\n"
          ]
        }
      ]
    },
    {
      "cell_type": "code",
      "source": [
        "# Speed and Performance :- Vectorized Operations: NumPy executes operations on entire arrays without explicit loops, leveraging low-level C-based functions for speed.Optimized Libraries: Built on C and Fortran libraries such as BLAS and LAPACK, ensuring high performance.\n",
        "import numpy as np\n",
        "import time\n",
        "\n",
        "# Create large arrays\n",
        "size = 1000000\n",
        "list1 = list(range(size))\n",
        "list2 = list(range(size))\n",
        "\n",
        "# Using Python lists\n",
        "start = time.time()\n",
        "result = [x + y for x, y in zip(list1, list2)]\n",
        "end = time.time()\n",
        "print(\"Python list addition time:\", end - start)\n",
        "\n",
        "# Using NumPy arrays\n",
        "arr1 = np.arange(size)\n",
        "arr2 = np.arange(size)\n",
        "start = time.time()\n",
        "result = arr1 + arr2\n",
        "end = time.time()\n",
        "print(\"NumPy array addition time:\", end - start)\n"
      ],
      "metadata": {
        "colab": {
          "base_uri": "https://localhost:8080/"
        },
        "id": "m7IudUud7Xkg",
        "outputId": "4d633ae0-bdc4-4f91-d617-fcd9bd6b81d7"
      },
      "execution_count": 16,
      "outputs": [
        {
          "output_type": "stream",
          "name": "stdout",
          "text": [
            "Python list addition time: 0.12997961044311523\n",
            "NumPy array addition time: 0.015308380126953125\n"
          ]
        }
      ]
    },
    {
      "cell_type": "markdown",
      "source": [
        "7) Compare vstack() and hstack() functions in NumPy. Provide examples demonstrating their usage and\n",
        "output?"
      ],
      "metadata": {
        "id": "zG70xXvCIR0c"
      }
    },
    {
      "cell_type": "code",
      "source": [
        "# NumPy’s vstack() and hstack() functions are used to combine arrays along different axes. Let’s explore the differences, usage, and examples for each.\n",
        "# vstack() (Vertical Stack) :- Stacks arrays vertically (row-wise).\n",
        "# Axis of Stacking: Along the first axis (axis=0).\n",
        "# Requirement: Arrays must have the same number of columns.\n",
        "import numpy as np\n",
        "\n",
        "# 1D Arrays\n",
        "arr1 = np.array([1, 2, 3])\n",
        "arr2 = np.array([4, 5, 6])\n",
        "\n",
        "# Vertical Stack\n",
        "result_vstack = np.vstack((arr1, arr2))\n",
        "print(\"Vertical Stack Result:\\n\", result_vstack)\n"
      ],
      "metadata": {
        "colab": {
          "base_uri": "https://localhost:8080/"
        },
        "id": "uQHeKKhW7Xa8",
        "outputId": "25b5f80d-f008-4d55-839f-52183b46d1f1"
      },
      "execution_count": 18,
      "outputs": [
        {
          "output_type": "stream",
          "name": "stdout",
          "text": [
            "Vertical Stack Result:\n",
            " [[1 2 3]\n",
            " [4 5 6]]\n"
          ]
        }
      ]
    },
    {
      "cell_type": "code",
      "source": [
        "# hstack() (Horizontal Stack) :- Stacks arrays horizontally (column-wise).\n",
        "# Axis of Stacking: Along the second axis (axis=1).\n",
        "# Requirement: Arrays must have the same number of rows.\n",
        "# 1D Arrays\n",
        "arr5 = np.array([1, 2, 3])\n",
        "arr6 = np.array([4, 5, 6])\n",
        "\n",
        "# Horizontal Stack\n",
        "result_hstack = np.hstack((arr5, arr6))\n",
        "print(\"Horizontal Stack Result:\\n\", result_hstack)\n"
      ],
      "metadata": {
        "colab": {
          "base_uri": "https://localhost:8080/"
        },
        "id": "CveIMej27XUy",
        "outputId": "57e46909-d41e-45da-a449-cdb536c38ed0"
      },
      "execution_count": 19,
      "outputs": [
        {
          "output_type": "stream",
          "name": "stdout",
          "text": [
            "Horizontal Stack Result:\n",
            " [1 2 3 4 5 6]\n"
          ]
        }
      ]
    },
    {
      "cell_type": "markdown",
      "source": [
        "8)  Explain the differences between fliplr() and flipud() methods in NumPy, including their effects on various\n",
        "array dimensions?"
      ],
      "metadata": {
        "id": "jdXEDaaIJGpB"
      }
    },
    {
      "cell_type": "code",
      "source": [
        "# NumPy provides the functions fliplr() and flipud() to reverse elements along specific axes of arrays. Let’s break down how they work, their effects on different array dimensions, and key differences.\n",
        "# fliplr() (Flip Left to Right) :- Reverses the columns of a 2D array (flips the array horizontally).\n",
        "# Works only on arrays with two or more dimensions.\n",
        "# Elements in each row are flipped left to right (horizontally).\n",
        "# Affects axis=1 (columns).\n",
        "import numpy as np\n",
        "\n",
        "# Create a 2D array\n",
        "arr = np.array([[1, 2, 3],\n",
        "                [4, 5, 6],\n",
        "                [7, 8, 9]])\n",
        "\n",
        "# Flip Left to Right\n",
        "result_fliplr = np.fliplr(arr)\n",
        "print(\"Original Array:\\n\", arr)\n",
        "print(\"After fliplr (Horizontal Flip):\\n\", result_fliplr)\n"
      ],
      "metadata": {
        "colab": {
          "base_uri": "https://localhost:8080/"
        },
        "id": "pTEjbmE37XLr",
        "outputId": "0bece26c-cd05-4d38-a1d4-098e345ff670"
      },
      "execution_count": 20,
      "outputs": [
        {
          "output_type": "stream",
          "name": "stdout",
          "text": [
            "Original Array:\n",
            " [[1 2 3]\n",
            " [4 5 6]\n",
            " [7 8 9]]\n",
            "After fliplr (Horizontal Flip):\n",
            " [[3 2 1]\n",
            " [6 5 4]\n",
            " [9 8 7]]\n"
          ]
        }
      ]
    },
    {
      "cell_type": "code",
      "source": [
        "# flipud() (Flip Up to Down) :- Reverses the rows of an array (flips the array vertically).\n",
        "# Works on arrays with one or more dimensions.\n",
        "# Elements are flipped from top to bottom (vertically).\n",
        "# Affects axis=0 (rows).\n",
        "# Flip Up to Down\n",
        "result_flipud = np.flipud(arr)\n",
        "print(\"After flipud (Vertical Flip):\\n\", result_flipud)\n"
      ],
      "metadata": {
        "colab": {
          "base_uri": "https://localhost:8080/"
        },
        "id": "jOPLZirSJuki",
        "outputId": "d3f0240e-3b7e-46c2-a0f0-19f371635bf6"
      },
      "execution_count": 21,
      "outputs": [
        {
          "output_type": "stream",
          "name": "stdout",
          "text": [
            "After flipud (Vertical Flip):\n",
            " [[7 8 9]\n",
            " [4 5 6]\n",
            " [1 2 3]]\n"
          ]
        }
      ]
    },
    {
      "cell_type": "markdown",
      "source": [
        "9)  Discuss the functionality of the array_split() method in NumPy. How does it handle uneven splits?"
      ],
      "metadata": {
        "id": "OscbJa4yuK7-"
      }
    },
    {
      "cell_type": "code",
      "source": [
        "# The numpy.array_split() function splits an array into multiple sub-arrays along a specified axis. It is more flexible than split() because it can handle uneven splits, meaning the resulting sub-arrays do not have to be of equal size.\n",
        "# Syntax :- numpy.array_split(ary, indices_or_sections, axis=0)\n",
        "import numpy as np\n",
        "\n",
        "# Create a 1D array\n",
        "arr = np.array([1, 2, 3, 4, 5, 6])\n",
        "\n",
        "# Split into 3 equal parts\n",
        "result = np.array_split(arr, 3)\n",
        "print(\"Even Split Result:\", result)\n"
      ],
      "metadata": {
        "colab": {
          "base_uri": "https://localhost:8080/"
        },
        "id": "YD_FnUCVKBpp",
        "outputId": "41b9cad9-c459-4a73-ed56-470a44307e77"
      },
      "execution_count": 24,
      "outputs": [
        {
          "output_type": "stream",
          "name": "stdout",
          "text": [
            "Even Split Result: [array([1, 2]), array([3, 4]), array([5, 6])]\n"
          ]
        }
      ]
    },
    {
      "cell_type": "markdown",
      "source": [
        "10) Explain the concepts of vectorization and broadcasting in NumPy. How do they contribute to efficient array\n",
        "operations?"
      ],
      "metadata": {
        "id": "DQrkUmTduK0P"
      }
    },
    {
      "cell_type": "code",
      "source": [
        "# Vectorization and broadcasting are core features of NumPy that enable efficient numerical computations by eliminating explicit loops and leveraging optimized C-based implementations. These concepts contribute significantly to the speed and efficiency of array operations in Python.\n",
        "\n",
        "import numpy as np\n",
        "\n",
        "# Two lists\n",
        "a = [1, 2, 3, 4]\n",
        "b = [5, 6, 7, 8]\n",
        "\n",
        "# Manual element-wise addition\n",
        "result = [x + y for x, y in zip(a, b)]\n",
        "print(\"Manual Addition:\", result)\n"
      ],
      "metadata": {
        "colab": {
          "base_uri": "https://localhost:8080/"
        },
        "id": "M8G8Top-KaUG",
        "outputId": "b40d2e8f-4f36-40eb-9b10-0b8c94a299bd"
      },
      "execution_count": 25,
      "outputs": [
        {
          "output_type": "stream",
          "name": "stdout",
          "text": [
            "Manual Addition: [6, 8, 10, 12]\n"
          ]
        }
      ]
    },
    {
      "cell_type": "markdown",
      "source": [
        "Practical Questions :-"
      ],
      "metadata": {
        "id": "4DXe3ScQuKru"
      }
    },
    {
      "cell_type": "markdown",
      "source": [
        "1)  Create a 3x3 NumPy array with random integers between 1 and 100. Then, interchange its rows and columns?"
      ],
      "metadata": {
        "id": "Jq_NrMyPuKgR"
      }
    },
    {
      "cell_type": "code",
      "execution_count": 26,
      "metadata": {
        "colab": {
          "base_uri": "https://localhost:8080/"
        },
        "id": "ck4PQQIDs_Bt",
        "outputId": "216c335e-b7e2-4a27-88a4-f02501598872"
      },
      "outputs": [
        {
          "output_type": "stream",
          "name": "stdout",
          "text": [
            "Original Array:\n",
            " [[ 4 74 18]\n",
            " [ 8 17 29]\n",
            " [77 12 87]]\n",
            "\n",
            "Transposed Array:\n",
            " [[ 4  8 77]\n",
            " [74 17 12]\n",
            " [18 29 87]]\n"
          ]
        }
      ],
      "source": [
        "import numpy as np\n",
        "\n",
        "# Create a 3x3 array with random integers between 1 and 100\n",
        "arr = np.random.randint(1, 101, size=(3, 3))\n",
        "\n",
        "# Print the original array\n",
        "print(\"Original Array:\\n\", arr)\n",
        "\n",
        "# Interchange rows and columns (Transpose the array)\n",
        "transposed_arr = arr.T\n",
        "\n",
        "# Print the transposed array\n",
        "print(\"\\nTransposed Array:\\n\", transposed_arr)\n"
      ]
    },
    {
      "cell_type": "markdown",
      "source": [
        "2)  Generate a 1D NumPy array with 10 elements. Reshape it into a 2x5 array, then into a 5x2 array?"
      ],
      "metadata": {
        "id": "20gM75MaLCM4"
      }
    },
    {
      "cell_type": "code",
      "source": [
        "import numpy as np\n",
        "\n",
        "# Generate a 1D array with 10 elements\n",
        "arr_1d = np.arange(1, 11)\n",
        "\n",
        "# Print the original 1D array\n",
        "print(\"Original 1D Array:\\n\", arr_1d)\n",
        "\n",
        "# Reshape into a 2x5 array\n",
        "arr_2x5 = arr_1d.reshape(2, 5)\n",
        "print(\"\\nReshaped to 2x5 Array:\\n\", arr_2x5)\n",
        "\n",
        "# Reshape into a 5x2 array\n",
        "arr_5x2 = arr_1d.reshape(5, 2)\n",
        "print(\"\\nReshaped to 5x2 Array:\\n\", arr_5x2)\n"
      ],
      "metadata": {
        "colab": {
          "base_uri": "https://localhost:8080/"
        },
        "id": "_LB1prgiLChN",
        "outputId": "6d12256a-5da0-4ea7-8ea9-8d29af88cc30"
      },
      "execution_count": 27,
      "outputs": [
        {
          "output_type": "stream",
          "name": "stdout",
          "text": [
            "Original 1D Array:\n",
            " [ 1  2  3  4  5  6  7  8  9 10]\n",
            "\n",
            "Reshaped to 2x5 Array:\n",
            " [[ 1  2  3  4  5]\n",
            " [ 6  7  8  9 10]]\n",
            "\n",
            "Reshaped to 5x2 Array:\n",
            " [[ 1  2]\n",
            " [ 3  4]\n",
            " [ 5  6]\n",
            " [ 7  8]\n",
            " [ 9 10]]\n"
          ]
        }
      ]
    },
    {
      "cell_type": "markdown",
      "source": [
        "3) Create a 4x4 NumPy array with random float values. Add a border of zeros around it, resulting in a 6x6 array?"
      ],
      "metadata": {
        "id": "K4ryNNudLPzA"
      }
    },
    {
      "cell_type": "code",
      "source": [
        "import numpy as np\n",
        "\n",
        "# Generate a 1D array with 10 elements\n",
        "arr_1d = np.arange(1, 11)\n",
        "\n",
        "# Print the original 1D array\n",
        "print(\"Original 1D Array:\\n\", arr_1d)\n",
        "\n",
        "# Reshape into a 2x5 array\n",
        "arr_2x5 = arr_1d.reshape(2, 5)\n",
        "print(\"\\nReshaped to 2x5 Array:\\n\", arr_2x5)\n",
        "\n",
        "# Reshape into a 5x2 array\n",
        "arr_5x2 = arr_1d.reshape(5, 2)\n",
        "print(\"\\nReshaped to 5x2 Array:\\n\", arr_5x2)\n",
        "\n",
        "# Create a 4x4 array with random float values\n",
        "arr_4x4 = np.random.rand(4, 4)\n",
        "print(\"\\nOriginal 4x4 Array:\\n\", arr_4x4)\n",
        "\n",
        "# Add a border of zeros to create a 6x6 array\n",
        "arr_6x6 = np.pad(arr_4x4, pad_width=1, mode='constant', constant_values=0)\n",
        "print(\"\\n6x6 Array with Zero Border:\\n\", arr_6x6)\n"
      ],
      "metadata": {
        "colab": {
          "base_uri": "https://localhost:8080/"
        },
        "id": "aGBDnQCcLQHj",
        "outputId": "e25ea4ef-15db-4559-86f5-44ae2ee15a2f"
      },
      "execution_count": 28,
      "outputs": [
        {
          "output_type": "stream",
          "name": "stdout",
          "text": [
            "Original 1D Array:\n",
            " [ 1  2  3  4  5  6  7  8  9 10]\n",
            "\n",
            "Reshaped to 2x5 Array:\n",
            " [[ 1  2  3  4  5]\n",
            " [ 6  7  8  9 10]]\n",
            "\n",
            "Reshaped to 5x2 Array:\n",
            " [[ 1  2]\n",
            " [ 3  4]\n",
            " [ 5  6]\n",
            " [ 7  8]\n",
            " [ 9 10]]\n",
            "\n",
            "Original 4x4 Array:\n",
            " [[0.50865742 0.95334496 0.45654221 0.0457166 ]\n",
            " [0.58647618 0.53164599 0.81750144 0.09552423]\n",
            " [0.34447629 0.14158885 0.06918438 0.56507706]\n",
            " [0.35756989 0.79704233 0.9419444  0.07046208]]\n",
            "\n",
            "6x6 Array with Zero Border:\n",
            " [[0.         0.         0.         0.         0.         0.        ]\n",
            " [0.         0.50865742 0.95334496 0.45654221 0.0457166  0.        ]\n",
            " [0.         0.58647618 0.53164599 0.81750144 0.09552423 0.        ]\n",
            " [0.         0.34447629 0.14158885 0.06918438 0.56507706 0.        ]\n",
            " [0.         0.35756989 0.79704233 0.9419444  0.07046208 0.        ]\n",
            " [0.         0.         0.         0.         0.         0.        ]]\n"
          ]
        }
      ]
    },
    {
      "cell_type": "markdown",
      "source": [
        "4)  Using NumPy, create an array of integers from 10 to 60 with a step of 5?"
      ],
      "metadata": {
        "id": "W7dJOZwYLQdf"
      }
    },
    {
      "cell_type": "code",
      "source": [
        "import numpy as np\n",
        "\n",
        "# Generate a 1D array with 10 elements\n",
        "arr_1d = np.arange(1, 11)\n",
        "\n",
        "# Print the original 1D array\n",
        "print(\"Original 1D Array:\\n\", arr_1d)\n",
        "\n",
        "# Reshape into a 2x5 array\n",
        "arr_2x5 = arr_1d.reshape(2, 5)\n",
        "print(\"\\nReshaped to 2x5 Array:\\n\", arr_2x5)\n",
        "\n",
        "# Reshape into a 5x2 array\n",
        "arr_5x2 = arr_1d.reshape(5, 2)\n",
        "print(\"\\nReshaped to 5x2 Array:\\n\", arr_5x2)\n",
        "\n",
        "# Create a 4x4 array with random float values\n",
        "arr_4x4 = np.random.rand(4, 4)\n",
        "print(\"\\nOriginal 4x4 Array:\\n\", arr_4x4)\n",
        "\n",
        "# Add a border of zeros to create a 6x6 array\n",
        "arr_6x6 = np.pad(arr_4x4, pad_width=1, mode='constant', constant_values=0)\n",
        "print(\"\\n6x6 Array with Zero Border:\\n\", arr_6x6)\n",
        "\n",
        "# Create an array of integers from 10 to 60 with a step of 5\n",
        "arr_step = np.arange(10, 61, 5)\n",
        "print(\"\\nArray from 10 to 60 with step of 5:\\n\", arr_step)\n"
      ],
      "metadata": {
        "colab": {
          "base_uri": "https://localhost:8080/"
        },
        "id": "GzhnZXl_LREW",
        "outputId": "656e70c8-b02d-48c4-b0ec-d3c05b94a254"
      },
      "execution_count": 30,
      "outputs": [
        {
          "output_type": "stream",
          "name": "stdout",
          "text": [
            "Original 1D Array:\n",
            " [ 1  2  3  4  5  6  7  8  9 10]\n",
            "\n",
            "Reshaped to 2x5 Array:\n",
            " [[ 1  2  3  4  5]\n",
            " [ 6  7  8  9 10]]\n",
            "\n",
            "Reshaped to 5x2 Array:\n",
            " [[ 1  2]\n",
            " [ 3  4]\n",
            " [ 5  6]\n",
            " [ 7  8]\n",
            " [ 9 10]]\n",
            "\n",
            "Original 4x4 Array:\n",
            " [[0.81254427 0.3486685  0.71052054 0.58456928]\n",
            " [0.33692393 0.55424819 0.40334151 0.76403401]\n",
            " [0.76814033 0.11099668 0.42445221 0.81861625]\n",
            " [0.27596886 0.45305105 0.18186829 0.46514551]]\n",
            "\n",
            "6x6 Array with Zero Border:\n",
            " [[0.         0.         0.         0.         0.         0.        ]\n",
            " [0.         0.81254427 0.3486685  0.71052054 0.58456928 0.        ]\n",
            " [0.         0.33692393 0.55424819 0.40334151 0.76403401 0.        ]\n",
            " [0.         0.76814033 0.11099668 0.42445221 0.81861625 0.        ]\n",
            " [0.         0.27596886 0.45305105 0.18186829 0.46514551 0.        ]\n",
            " [0.         0.         0.         0.         0.         0.        ]]\n",
            "\n",
            "Array from 10 to 60 with step of 5:\n",
            " [10 15 20 25 30 35 40 45 50 55 60]\n"
          ]
        }
      ]
    },
    {
      "cell_type": "markdown",
      "source": [
        "5) Create a NumPy array of strings ['python', 'numpy', 'pandas']. Apply different case transformations\n",
        "(uppercase, lowercase, title case, etc.) to each element?"
      ],
      "metadata": {
        "id": "OBuFv_0rLRmh"
      }
    },
    {
      "cell_type": "code",
      "source": [
        "import numpy as np\n",
        "\n",
        "# Create a NumPy array of strings\n",
        "arr = np.array(['python', 'numpy', 'pandas'])\n",
        "\n",
        "# Apply different case transformations\n",
        "uppercase = np.char.upper(arr)    # Convert to uppercase\n",
        "lowercase = np.char.lower(arr)    # Convert to lowercase\n",
        "titlecase = np.char.title(arr)    # Convert to title case\n",
        "capitalize = np.char.capitalize(arr)  # Capitalize the first letter\n",
        "\n",
        "# Display the results\n",
        "print(\"Original:\", arr)\n",
        "print(\"Uppercase:\", uppercase)\n",
        "print(\"Lowercase:\", lowercase)\n",
        "print(\"Titlecase:\", titlecase)\n",
        "print(\"Capitalize:\", capitalize)\n"
      ],
      "metadata": {
        "colab": {
          "base_uri": "https://localhost:8080/"
        },
        "id": "xvOPBl_KLR6u",
        "outputId": "e416cd0b-2c15-4a16-b849-75553fdfb5df"
      },
      "execution_count": 31,
      "outputs": [
        {
          "output_type": "stream",
          "name": "stdout",
          "text": [
            "Original: ['python' 'numpy' 'pandas']\n",
            "Uppercase: ['PYTHON' 'NUMPY' 'PANDAS']\n",
            "Lowercase: ['python' 'numpy' 'pandas']\n",
            "Titlecase: ['Python' 'Numpy' 'Pandas']\n",
            "Capitalize: ['Python' 'Numpy' 'Pandas']\n"
          ]
        }
      ]
    },
    {
      "cell_type": "markdown",
      "source": [
        "6) Generate a NumPy array of words. Insert a space between each character of every word in the array?"
      ],
      "metadata": {
        "id": "t7XhAeyDLSiJ"
      }
    },
    {
      "cell_type": "code",
      "source": [
        "import numpy as np\n",
        "\n",
        "# Create a NumPy array of words\n",
        "arr = np.array(['python', 'numpy', 'pandas'])\n",
        "\n",
        "# Insert a space between each character of every word\n",
        "spaced_arr = np.array([' '.join(word) for word in arr])\n",
        "\n",
        "# Display the result\n",
        "print(\"Original:\", arr)\n",
        "print(\"Spaced:\", spaced_arr)\n"
      ],
      "metadata": {
        "colab": {
          "base_uri": "https://localhost:8080/"
        },
        "id": "UhMJ7YeNLS2T",
        "outputId": "6dd3aa25-4c96-4060-bb2b-6dc50c8b93d6"
      },
      "execution_count": 32,
      "outputs": [
        {
          "output_type": "stream",
          "name": "stdout",
          "text": [
            "Original: ['python' 'numpy' 'pandas']\n",
            "Spaced: ['p y t h o n' 'n u m p y' 'p a n d a s']\n"
          ]
        }
      ]
    },
    {
      "cell_type": "markdown",
      "source": [
        "7) Create two 2D NumPy arrays and perform element-wise addition, subtraction, multiplication, and division?"
      ],
      "metadata": {
        "id": "hzxl6kMCLTKU"
      }
    },
    {
      "cell_type": "code",
      "source": [
        "import numpy as np\n",
        "\n",
        "# Create two 2D NumPy arrays\n",
        "arr1 = np.array([[1, 2, 3], [4, 5, 6]])\n",
        "arr2 = np.array([[7, 8, 9], [10, 11, 12]])\n",
        "\n",
        "# Perform element-wise addition\n",
        "addition = arr1 + arr2\n",
        "\n",
        "# Perform element-wise subtraction\n",
        "subtraction = arr1 - arr2\n",
        "\n",
        "# Perform element-wise multiplication\n",
        "multiplication = arr1 * arr2\n",
        "\n",
        "# Perform element-wise division\n",
        "division = arr1 / arr2\n",
        "\n",
        "# Display the results\n",
        "print(\"Array 1:\\n\", arr1)\n",
        "print(\"Array 2:\\n\", arr2)\n",
        "print(\"Element-wise Addition:\\n\", addition)\n",
        "print(\"Element-wise Subtraction:\\n\", subtraction)\n",
        "print(\"Element-wise Multiplication:\\n\", multiplication)\n",
        "print(\"Element-wise Division:\\n\", division)\n"
      ],
      "metadata": {
        "colab": {
          "base_uri": "https://localhost:8080/"
        },
        "id": "SyUrzCblLTgk",
        "outputId": "5e0805ca-47d7-4c43-8bba-0226ba864d25"
      },
      "execution_count": 33,
      "outputs": [
        {
          "output_type": "stream",
          "name": "stdout",
          "text": [
            "Array 1:\n",
            " [[1 2 3]\n",
            " [4 5 6]]\n",
            "Array 2:\n",
            " [[ 7  8  9]\n",
            " [10 11 12]]\n",
            "Element-wise Addition:\n",
            " [[ 8 10 12]\n",
            " [14 16 18]]\n",
            "Element-wise Subtraction:\n",
            " [[-6 -6 -6]\n",
            " [-6 -6 -6]]\n",
            "Element-wise Multiplication:\n",
            " [[ 7 16 27]\n",
            " [40 55 72]]\n",
            "Element-wise Division:\n",
            " [[0.14285714 0.25       0.33333333]\n",
            " [0.4        0.45454545 0.5       ]]\n"
          ]
        }
      ]
    },
    {
      "cell_type": "markdown",
      "source": [
        "8) Use NumPy to create a 5x5 identity matrix, then extract its diagonal elements?"
      ],
      "metadata": {
        "id": "0aTAyzQVLT8E"
      }
    },
    {
      "cell_type": "code",
      "source": [
        "import numpy as np\n",
        "\n",
        "# Create a 5x5 identity matrix\n",
        "identity_matrix = np.eye(5)\n",
        "\n",
        "# Extract the diagonal elements\n",
        "diagonal_elements = np.diagonal(identity_matrix)\n",
        "\n",
        "# Display the results\n",
        "print(\"5x5 Identity Matrix:\\n\", identity_matrix)\n",
        "print(\"Diagonal Elements:\", diagonal_elements)\n"
      ],
      "metadata": {
        "colab": {
          "base_uri": "https://localhost:8080/"
        },
        "id": "S8-p7lJwLUXX",
        "outputId": "42843dc8-813a-4e35-f8bc-64c32afacd81"
      },
      "execution_count": 34,
      "outputs": [
        {
          "output_type": "stream",
          "name": "stdout",
          "text": [
            "5x5 Identity Matrix:\n",
            " [[1. 0. 0. 0. 0.]\n",
            " [0. 1. 0. 0. 0.]\n",
            " [0. 0. 1. 0. 0.]\n",
            " [0. 0. 0. 1. 0.]\n",
            " [0. 0. 0. 0. 1.]]\n",
            "Diagonal Elements: [1. 1. 1. 1. 1.]\n"
          ]
        }
      ]
    },
    {
      "cell_type": "markdown",
      "source": [
        "9)  Generate a NumPy array of 100 random integers between 0 and 1000. Find and display all prime numbers in\n",
        "this array?"
      ],
      "metadata": {
        "id": "0_3NK-DrLUok"
      }
    },
    {
      "cell_type": "code",
      "source": [
        "import numpy as np\n",
        "\n",
        "# Function to check if a number is prime\n",
        "def is_prime(num):\n",
        "    if num <= 1:\n",
        "        return False\n",
        "    for i in range(2, int(num**0.5) + 1):\n",
        "        if num % i == 0:\n",
        "            return False\n",
        "    return True\n",
        "\n",
        "# Generate a NumPy array of 100 random integers between 0 and 1000\n",
        "random_array = np.random.randint(0, 1000, 100)\n",
        "\n",
        "# Find all prime numbers in the array\n",
        "prime_numbers = [num for num in random_array if is_prime(num)]\n",
        "\n",
        "# Display the results\n",
        "print(\"Random Array:\", random_array)\n",
        "print(\"Prime Numbers:\", prime_numbers)\n"
      ],
      "metadata": {
        "colab": {
          "base_uri": "https://localhost:8080/"
        },
        "id": "sfpZHR3RLU-R",
        "outputId": "a2ea07ed-7632-4040-c371-701b1d1481a3"
      },
      "execution_count": 35,
      "outputs": [
        {
          "output_type": "stream",
          "name": "stdout",
          "text": [
            "Random Array: [787  69 322 679 593 925 190  23 123 422 260 920 957 299 847 904 642 559\n",
            "  38 321 619 836 799  86 993 419 470   4 930 326 541 635 721 352 181 777\n",
            " 842 310 635  56 133 439 470 871 604  41 324 779 369 662 115 783 300 976\n",
            " 654 277 137 816 778 223 575 490 189  16 457  78  88 912 784  13 602 867\n",
            " 637 411 646 201 693 245 363 586 415 147 267  98 201 277 850 204 792 302\n",
            " 561 730 234 519 510 901  41   8 158 646]\n",
            "Prime Numbers: [787, 593, 23, 619, 419, 541, 181, 439, 41, 277, 137, 223, 457, 13, 277, 41]\n"
          ]
        }
      ]
    },
    {
      "cell_type": "markdown",
      "source": [
        "10) Create a NumPy array representing daily temperatures for a month. Calculate and display the weekly\n",
        "averages?"
      ],
      "metadata": {
        "id": "51C4SVsYLVf0"
      }
    },
    {
      "cell_type": "code",
      "source": [
        "import numpy as np\n",
        "\n",
        "# Generate a NumPy array representing daily temperatures for a month (30 days)\n",
        "# Let's use random temperatures between 15 and 30 degrees Celsius\n",
        "daily_temperatures = np.random.randint(15, 31, 30)\n",
        "\n",
        "# Reshape the array into weeks (4 full weeks + 1 partial week)\n",
        "weekly_temperatures = daily_temperatures.reshape(5, 6)\n",
        "\n",
        "# Calculate the weekly averages\n",
        "weekly_averages = weekly_temperatures.mean(axis=1)\n",
        "\n",
        "# Display the results\n",
        "print(\"Daily Temperatures for the Month:\", daily_temperatures)\n",
        "print(\"Weekly Temperatures (reshaped into weeks):\\n\", weekly_temperatures)\n",
        "print(\"Weekly Averages:\", weekly_averages)\n"
      ],
      "metadata": {
        "colab": {
          "base_uri": "https://localhost:8080/"
        },
        "id": "R4h5NML7LVyY",
        "outputId": "609becb9-ea6a-4502-93bd-fd59d8fe2fd3"
      },
      "execution_count": 36,
      "outputs": [
        {
          "output_type": "stream",
          "name": "stdout",
          "text": [
            "Daily Temperatures for the Month: [17 24 28 17 21 18 22 18 17 26 24 30 25 15 23 20 26 20 19 20 18 30 27 18\n",
            " 21 24 26 26 15 30]\n",
            "Weekly Temperatures (reshaped into weeks):\n",
            " [[17 24 28 17 21 18]\n",
            " [22 18 17 26 24 30]\n",
            " [25 15 23 20 26 20]\n",
            " [19 20 18 30 27 18]\n",
            " [21 24 26 26 15 30]]\n",
            "Weekly Averages: [20.83333333 22.83333333 21.5        22.         23.66666667]\n"
          ]
        }
      ]
    }
  ]
}