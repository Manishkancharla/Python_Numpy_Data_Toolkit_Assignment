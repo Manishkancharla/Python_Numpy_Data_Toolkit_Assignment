{
  "nbformat": 4,
  "nbformat_minor": 0,
  "metadata": {
    "colab": {
      "provenance": [],
      "authorship_tag": "ABX9TyM22GVQJSjgyUDyCRZrXGKh",
      "include_colab_link": true
    },
    "kernelspec": {
      "name": "python3",
      "display_name": "Python 3"
    },
    "language_info": {
      "name": "python"
    }
  },
  "cells": [
    {
      "cell_type": "markdown",
      "metadata": {
        "id": "view-in-github",
        "colab_type": "text"
      },
      "source": [
        "<a href=\"https://colab.research.google.com/github/Manishkancharla/Python_Numpy_Data_Toolkit_Assignment/blob/main/Numpy_Data_Toolkit_Assignment.ipynb\" target=\"_parent\"><img src=\"https://colab.research.google.com/assets/colab-badge.svg\" alt=\"Open In Colab\"/></a>"
      ]
    },
    {
      "cell_type": "markdown",
      "source": [
        "Theoretical Questions:\n"
      ],
      "metadata": {
        "id": "cP88qM8wuL04"
      }
    },
    {
      "cell_type": "markdown",
      "source": [
        "1)  Explain the purpose and advantages of NumPy in scientific computing and data analysis. How does it\n",
        "enhance Python's capabilities for numerical operations?"
      ],
      "metadata": {
        "id": "WLa-a3etuU_s"
      }
    },
    {
      "cell_type": "code",
      "source": [
        "# Advantages of NumPy in Scientific Computing :\n",
        "# Performance and Speed: Written in C, NumPy is much faster than native Python lists due to optimized computations.\n",
        "# Ease of Use: Simplifies complex mathematical operations with concise, readable syntax.\n",
        "# Data Analysis and Processing: Supports efficient data manipulation, making it ideal for tasks like statistical analysis, simulations, and scientific research.\n",
        "# Cross-Platform Compatibility: Works on various platforms and supports many file formats like CSV, Excel, and binary files.\n",
        "# Data Storage and Interoperability: Facilitates reading/writing large datasets and exchanging data between different libraries.\n",
        "\n",
        "# How NumPy Enhances Python's Numerical Capabilities :\n",
        "# Faster Computation: Uses C-based implementation for performance-critical operations.\n",
        "# Array Operations: Supports multi-dimensional array creation, slicing, and reshaping, making data manipulation straightforward.\n",
        "# Efficient Memory Usage: Manages memory more efficiently by using fixed-type arrays and minimizing overhead.\n",
        "# Vectorization and Broadcasting: Reduces the need for explicit loops, enabling vectorized computations that speed up calculations.\n",
        "# Support for Complex Mathematical Operations: Implements numerical algorithms like matrix decomposition, Fourier transforms, and random number generation.\n",
        "import numpy as np\n",
        "\n",
        "# Create two large arrays\n",
        "a = np.random.rand(1000000)\n",
        "b = np.random.rand(1000000)\n",
        "\n",
        "# Perform element-wise addition using NumPy\n",
        "result = a + b\n",
        "print(f\"First 5 results: {result[:5]}\")\n"
      ],
      "metadata": {
        "colab": {
          "base_uri": "https://localhost:8080/"
        },
        "id": "teDuR9cMu4ST",
        "outputId": "ddc0c0b1-e6f5-4948-ddd6-2190d5c22121"
      },
      "execution_count": 1,
      "outputs": [
        {
          "output_type": "stream",
          "name": "stdout",
          "text": [
            "First 5 results: [0.33386075 0.44025031 0.72935449 1.02106511 1.42243628]\n"
          ]
        }
      ]
    },
    {
      "cell_type": "markdown",
      "source": [
        "2)  Compare and contrast np.mean() and np.average() functions in NumPy. When would you use one over the\n",
        "other?"
      ],
      "metadata": {
        "id": "DLVcblPcuLbD"
      }
    },
    {
      "cell_type": "code",
      "source": [
        "# Both np.mean() and np.average() are used to compute the average value of elements in a NumPy array, but they have important differences in terms of functionality, flexibility, and use cases.\n",
        "# np.mean() : Calculates the arithmetic mean (average) of array elements along a specified axis.\n",
        "# Syntax : np.mean(array, axis=None, dtype=None)\n",
        "import numpy as np\n",
        "\n",
        "data = np.array([[1, 2, 3], [4, 5, 6]])\n",
        "print(\"Mean of all elements:\", np.mean(data))\n",
        "print(\"Mean along rows:\", np.mean(data, axis=1))\n",
        "\n"
      ],
      "metadata": {
        "colab": {
          "base_uri": "https://localhost:8080/"
        },
        "id": "aSPt1w4MvqtM",
        "outputId": "ba58647e-ffa9-49cf-cfae-3eff0cfc4a1e"
      },
      "execution_count": 3,
      "outputs": [
        {
          "output_type": "stream",
          "name": "stdout",
          "text": [
            "Mean of all elements: 3.5\n",
            "Mean along rows: [2. 5.]\n"
          ]
        }
      ]
    },
    {
      "cell_type": "code",
      "source": [
        "# np.average() : Calculates the weighted average of elements, optionally using specified weights.\n",
        "# Syntax : np.average(array, axis=None, weights=None, returned=False)\n",
        "weights = np.array([0.2, 0.3, 0.5])\n",
        "values = np.array([70, 80, 90])\n",
        "\n",
        "# Calculate weighted average\n",
        "weighted_avg = np.average(values, weights=weights)\n",
        "print(\"Weighted Average:\", weighted_avg)\n"
      ],
      "metadata": {
        "colab": {
          "base_uri": "https://localhost:8080/"
        },
        "id": "CXqU0npewYXa",
        "outputId": "f60cb53a-6047-4148-c90f-a7b0319c9b75"
      },
      "execution_count": 4,
      "outputs": [
        {
          "output_type": "stream",
          "name": "stdout",
          "text": [
            "Weighted Average: 83.0\n"
          ]
        }
      ]
    },
    {
      "cell_type": "markdown",
      "source": [
        "3)  Describe the methods for reversing a NumPy array along different axes. Provide examples for 1D and 2D\n",
        "arrays?"
      ],
      "metadata": {
        "id": "_zOyI4E8uLTh"
      }
    },
    {
      "cell_type": "code",
      "source": [
        "# Reversing a NumPy array involves changing the order of elements along specified axes. This operation is useful in data preprocessing, manipulation, and analysis. Let’s explore methods for reversing arrays in different dimensions.\n",
        "# Reversing a 1D NumPy Array :-\n",
        "import numpy as np\n",
        "\n",
        "# 1D Array\n",
        "arr_1d = np.array([10, 20, 30, 40, 50])\n",
        "\n",
        "# Reverse using slicing\n",
        "reversed_1d = arr_1d[::-1]\n",
        "print(\"Original 1D Array:\", arr_1d)\n",
        "print(\"Reversed 1D Array:\", reversed_1d)\n"
      ],
      "metadata": {
        "colab": {
          "base_uri": "https://localhost:8080/"
        },
        "id": "G2bWIFMTxEvW",
        "outputId": "f37f2440-b04a-4632-aaec-66baef4ce2d7"
      },
      "execution_count": 5,
      "outputs": [
        {
          "output_type": "stream",
          "name": "stdout",
          "text": [
            "Original 1D Array: [10 20 30 40 50]\n",
            "Reversed 1D Array: [50 40 30 20 10]\n"
          ]
        }
      ]
    },
    {
      "cell_type": "code",
      "source": [
        "# Reversing a 2D NumPy Array :-\n",
        "# 2D Array\n",
        "arr_2d = np.array([[1, 2, 3], [4, 5, 6], [7, 8, 9]])\n",
        "\n",
        "# Reverse rows\n",
        "reverse_rows = arr_2d[::-1]\n",
        "print(\"Original 2D Array:\\n\", arr_2d)\n",
        "print(\"Rows Reversed:\\n\", reverse_rows)\n"
      ],
      "metadata": {
        "colab": {
          "base_uri": "https://localhost:8080/"
        },
        "id": "wuL5Ri3txPuP",
        "outputId": "33ee37ce-4335-497b-f30c-9bcc85f8c1b9"
      },
      "execution_count": 6,
      "outputs": [
        {
          "output_type": "stream",
          "name": "stdout",
          "text": [
            "Original 2D Array:\n",
            " [[1 2 3]\n",
            " [4 5 6]\n",
            " [7 8 9]]\n",
            "Rows Reversed:\n",
            " [[7 8 9]\n",
            " [4 5 6]\n",
            " [1 2 3]]\n"
          ]
        }
      ]
    },
    {
      "cell_type": "markdown",
      "source": [
        "4)  How can you determine the data type of elements in a NumPy array? Discuss the importance of data types\n",
        "in memory management and performance?"
      ],
      "metadata": {
        "id": "Y6sQYTnVuLLJ"
      }
    },
    {
      "cell_type": "code",
      "source": [
        "# In NumPy, every array has a data type (dtype) that defines the type of elements stored in the array. You can determine this using various methods:\n",
        "# Using dtype Attribute :-\n",
        "import numpy as np\n",
        "\n",
        "# Creating an array\n",
        "arr = np.array([1, 2, 3, 4, 5])\n",
        "print(\"Data Type:\", arr.dtype)\n"
      ],
      "metadata": {
        "colab": {
          "base_uri": "https://localhost:8080/"
        },
        "id": "0OQVNYRsx1DD",
        "outputId": "11ae2e9e-0f80-4ed8-9167-c54a271b6bd9"
      },
      "execution_count": 7,
      "outputs": [
        {
          "output_type": "stream",
          "name": "stdout",
          "text": [
            "Data Type: int64\n"
          ]
        }
      ]
    },
    {
      "cell_type": "code",
      "source": [
        "# Using type() Function :-\n",
        "print(\"Array Type:\", type(arr))\n"
      ],
      "metadata": {
        "colab": {
          "base_uri": "https://localhost:8080/"
        },
        "id": "v4qgUiYsx0kk",
        "outputId": "e8a871df-eda6-48ea-ec13-14fa50807998"
      },
      "execution_count": 8,
      "outputs": [
        {
          "output_type": "stream",
          "name": "stdout",
          "text": [
            "Array Type: <class 'numpy.ndarray'>\n"
          ]
        }
      ]
    },
    {
      "cell_type": "code",
      "source": [
        "# Specifying Data Type During Array Creation :-\n",
        "arr_float = np.array([1, 2, 3], dtype=float)\n",
        "print(\"Data Type:\", arr_float.dtype)\n"
      ],
      "metadata": {
        "colab": {
          "base_uri": "https://localhost:8080/"
        },
        "id": "xHV2hj40x0b-",
        "outputId": "af437048-f74f-432e-bcff-970d27b74f6e"
      },
      "execution_count": 9,
      "outputs": [
        {
          "output_type": "stream",
          "name": "stdout",
          "text": [
            "Data Type: float64\n"
          ]
        }
      ]
    },
    {
      "cell_type": "code",
      "source": [
        "# Using astype() for Type Conversion :-\n",
        "# Convert to another data type\n",
        "arr_converted = arr.astype(np.float32)\n",
        "print(\"Converted Data Type:\", arr_converted.dtype)\n",
        "\n",
        "# Importance of Data Types in Memory Management and Performance :-\n",
        "# Memory Efficiency: NumPy arrays use fixed-size memory blocks, determined by the data type.\n",
        "# Example: int32 uses 4 bytes, while int64 uses 8 bytes. Choosing the correct data type minimizes memory usage.\n",
        "# Performance Optimization: Fixed data types enable efficient storage and faster access to elements. Operations on homogeneous arrays are faster than on Python lists due to reduced overhead.\n",
        "# Data Compatibility: Selecting an appropriate data type ensures compatibility with external systems, files, and libraries.\n",
        "# Precision and Accuracy: Use float64 for high-precision calculations. Choose int8, int16, or float32 when memory usage matters more than precision.\n"
      ],
      "metadata": {
        "colab": {
          "base_uri": "https://localhost:8080/"
        },
        "id": "6Y9ggGaPx0a2",
        "outputId": "27097592-e5ae-433a-c568-f84dc26e185b"
      },
      "execution_count": 11,
      "outputs": [
        {
          "output_type": "stream",
          "name": "stdout",
          "text": [
            "Converted Data Type: float32\n"
          ]
        }
      ]
    },
    {
      "cell_type": "markdown",
      "source": [
        "5) Define ndarrays in NumPy and explain their key features. How do they differ from standard Python lists?"
      ],
      "metadata": {
        "id": "8C_4p1BYy-lz"
      }
    },
    {
      "cell_type": "code",
      "source": [
        "# An ndarray (N-dimensional array) is the core data structure of the NumPy library. It represents a multi-dimensional, homogeneous array of fixed-size elements, all of the same data type (dtype). It supports efficient numerical computations and provides various methods for array operations.\n",
        "# Key Features of ndarray in NumPy :-\n",
        "# Multidimensional Structure: Supports arrays of any dimension (1D, 2D, 3D, etc.). Shape of the array is defined by a tuple of integers.\n",
        "# Homogeneous Elements: All elements must have the same data type, ensuring efficient memory storage.\n",
        "# Efficient Memory Management: Stored in contiguous memory blocks, enabling fast data access and operations.\n",
        "# Broadcasting Support: Performs element-wise operations on arrays of different shapes through broadcasting.\n",
        "# Built-in Functions: Supports built-in mathematical, statistical, and linear algebra functions.\n",
        "# Indexing and Slicing: Advanced slicing, indexing, and boolean filtering capabilities.\n",
        "# Type Flexibility: Supports many data types such as integers, floats, complex numbers, and custom data types.\n",
        "# Integration: Works seamlessly with libraries like Pandas, SciPy, and TensorFlow.\n",
        "# Comparison Between ndarray and Python List :-\n",
        "# Element-wise Addition With Python Lists:\n",
        "list_a = [1, 2, 3]\n",
        "list_b = [4, 5, 6]\n",
        "\n",
        "# Manual addition using list comprehension\n",
        "result_list = [x + y for x, y in zip(list_a, list_b)]\n",
        "print(\"List Result:\", result_list)\n",
        "\n"
      ],
      "metadata": {
        "colab": {
          "base_uri": "https://localhost:8080/"
        },
        "id": "ZUVFRVDUx4BV",
        "outputId": "352a4a02-3e75-4ae0-c259-2618a9a04e26"
      },
      "execution_count": 12,
      "outputs": [
        {
          "output_type": "stream",
          "name": "stdout",
          "text": [
            "List Result: [5, 7, 9]\n"
          ]
        }
      ]
    },
    {
      "cell_type": "code",
      "source": [
        "# With NumPy ndarray :\n",
        "import numpy as np\n",
        "\n",
        "arr_a = np.array([1, 2, 3])\n",
        "arr_b = np.array([4, 5, 6])\n",
        "\n",
        "# Element-wise addition\n",
        "result_array = arr_a + arr_b\n",
        "print(\"NumPy Array Result:\", result_array)\n"
      ],
      "metadata": {
        "colab": {
          "base_uri": "https://localhost:8080/"
        },
        "id": "9IlvTleb0Gtf",
        "outputId": "20eef140-f3fc-423c-b064-456bd17cfaa5"
      },
      "execution_count": 13,
      "outputs": [
        {
          "output_type": "stream",
          "name": "stdout",
          "text": [
            "NumPy Array Result: [5 7 9]\n"
          ]
        }
      ]
    },
    {
      "cell_type": "markdown",
      "source": [
        "6) Analyze the performance benefits of NumPy arrays over Python lists for large-scale numerical operations?"
      ],
      "metadata": {
        "id": "SDvxX8XDuLDR"
      }
    },
    {
      "cell_type": "code",
      "source": [
        "# NumPy arrays (ndarray) offer significant performance advantages over Python lists for large-scale numerical operations due to several design optimizations. Let’s explore key aspects contributing to NumPy’s performance superiority.\n",
        "# Memory Efficiency :-\n",
        "# Fixed Data Type: All elements in a NumPy array have the same data type, unlike Python lists, which allow mixed types.\n",
        "# Contiguous Memory Allocation: NumPy arrays are stored in contiguous memory blocks, enabling efficient memory management and reducing overhead.\n",
        "import numpy as np\n",
        "import sys\n",
        "\n",
        "# Memory usage comparison\n",
        "py_list = list(range(1000000))\n",
        "np_array = np.arange(1000000)\n",
        "\n",
        "print(\"Memory used by Python list:\", sys.getsizeof(py_list), \"bytes\")\n",
        "print(\"Memory used by NumPy array:\", np_array.nbytes, \"bytes\")\n"
      ],
      "metadata": {
        "colab": {
          "base_uri": "https://localhost:8080/"
        },
        "id": "YE5KBXFA7Wmf",
        "outputId": "5517b574-13dd-4c1c-c93d-951633220fc3"
      },
      "execution_count": 14,
      "outputs": [
        {
          "output_type": "stream",
          "name": "stdout",
          "text": [
            "Memory used by Python list: 8000056 bytes\n",
            "Memory used by NumPy array: 8000000 bytes\n"
          ]
        }
      ]
    },
    {
      "cell_type": "code",
      "source": [
        "# Speed and Performance :- Vectorized Operations: NumPy executes operations on entire arrays without explicit loops, leveraging low-level C-based functions for speed.Optimized Libraries: Built on C and Fortran libraries such as BLAS and LAPACK, ensuring high performance.\n",
        "import numpy as np\n",
        "import time\n",
        "\n",
        "# Create large arrays\n",
        "size = 1000000\n",
        "list1 = list(range(size))\n",
        "list2 = list(range(size))\n",
        "\n",
        "# Using Python lists\n",
        "start = time.time()\n",
        "result = [x + y for x, y in zip(list1, list2)]\n",
        "end = time.time()\n",
        "print(\"Python list addition time:\", end - start)\n",
        "\n",
        "# Using NumPy arrays\n",
        "arr1 = np.arange(size)\n",
        "arr2 = np.arange(size)\n",
        "start = time.time()\n",
        "result = arr1 + arr2\n",
        "end = time.time()\n",
        "print(\"NumPy array addition time:\", end - start)\n"
      ],
      "metadata": {
        "colab": {
          "base_uri": "https://localhost:8080/"
        },
        "id": "m7IudUud7Xkg",
        "outputId": "676410c5-cf23-4813-ace3-cb0e7b70cc7f"
      },
      "execution_count": 15,
      "outputs": [
        {
          "output_type": "stream",
          "name": "stdout",
          "text": [
            "Python list addition time: 0.10942339897155762\n",
            "NumPy array addition time: 0.01962447166442871\n"
          ]
        }
      ]
    },
    {
      "cell_type": "markdown",
      "source": [
        "7) Compare vstack() and hstack() functions in NumPy. Provide examples demonstrating their usage and\n",
        "output?"
      ],
      "metadata": {
        "id": "zG70xXvCIR0c"
      }
    },
    {
      "cell_type": "code",
      "source": [
        "# NumPy’s vstack() and hstack() functions are used to combine arrays along different axes. Let’s explore the differences, usage, and examples for each.\n",
        "# vstack() (Vertical Stack) :- Stacks arrays vertically (row-wise).\n",
        "# Axis of Stacking: Along the first axis (axis=0).\n",
        "# Requirement: Arrays must have the same number of columns.\n",
        "import numpy as np\n",
        "\n",
        "# 1D Arrays\n",
        "arr1 = np.array([1, 2, 3])\n",
        "arr2 = np.array([4, 5, 6])\n",
        "\n",
        "# Vertical Stack\n",
        "result_vstack = np.vstack((arr1, arr2))\n",
        "print(\"Vertical Stack Result:\\n\", result_vstack)\n"
      ],
      "metadata": {
        "colab": {
          "base_uri": "https://localhost:8080/"
        },
        "id": "uQHeKKhW7Xa8",
        "outputId": "8725cfe8-31fa-4cc6-b71a-106697533454"
      },
      "execution_count": 17,
      "outputs": [
        {
          "output_type": "stream",
          "name": "stdout",
          "text": [
            "Vertical Stack Result:\n",
            " [[1 2 3]\n",
            " [4 5 6]]\n"
          ]
        }
      ]
    },
    {
      "cell_type": "code",
      "source": [
        "# hstack() (Horizontal Stack) :- Stacks arrays horizontally (column-wise).\n",
        "# Axis of Stacking: Along the second axis (axis=1).\n",
        "# Requirement: Arrays must have the same number of rows.\n",
        "# 1D Arrays\n",
        "arr5 = np.array([1, 2, 3])\n",
        "arr6 = np.array([4, 5, 6])\n",
        "\n",
        "# Horizontal Stack\n",
        "result_hstack = np.hstack((arr5, arr6))\n",
        "print(\"Horizontal Stack Result:\\n\", result_hstack)\n"
      ],
      "metadata": {
        "colab": {
          "base_uri": "https://localhost:8080/"
        },
        "id": "CveIMej27XUy",
        "outputId": "08e49f06-9a7c-43f4-b51a-05511fc42674"
      },
      "execution_count": 18,
      "outputs": [
        {
          "output_type": "stream",
          "name": "stdout",
          "text": [
            "Horizontal Stack Result:\n",
            " [1 2 3 4 5 6]\n"
          ]
        }
      ]
    },
    {
      "cell_type": "markdown",
      "source": [
        "8)  Explain the differences between fliplr() and flipud() methods in NumPy, including their effects on various\n",
        "array dimensions?"
      ],
      "metadata": {
        "id": "jdXEDaaIJGpB"
      }
    },
    {
      "cell_type": "code",
      "source": [
        "# NumPy provides the functions fliplr() and flipud() to reverse elements along specific axes of arrays. Let’s break down how they work, their effects on different array dimensions, and key differences.\n",
        "# fliplr() (Flip Left to Right) :- Reverses the columns of a 2D array (flips the array horizontally).\n",
        "# Works only on arrays with two or more dimensions.\n",
        "# Elements in each row are flipped left to right (horizontally).\n",
        "# Affects axis=1 (columns).\n",
        "import numpy as np\n",
        "\n",
        "# Create a 2D array\n",
        "arr = np.array([[1, 2, 3],\n",
        "                [4, 5, 6],\n",
        "                [7, 8, 9]])\n",
        "\n",
        "# Flip Left to Right\n",
        "result_fliplr = np.fliplr(arr)\n",
        "print(\"Original Array:\\n\", arr)\n",
        "print(\"After fliplr (Horizontal Flip):\\n\", result_fliplr)\n"
      ],
      "metadata": {
        "colab": {
          "base_uri": "https://localhost:8080/"
        },
        "id": "pTEjbmE37XLr",
        "outputId": "a2ae9251-a9d4-4e4a-8f9e-ac2f1cd8d605"
      },
      "execution_count": 19,
      "outputs": [
        {
          "output_type": "stream",
          "name": "stdout",
          "text": [
            "Original Array:\n",
            " [[1 2 3]\n",
            " [4 5 6]\n",
            " [7 8 9]]\n",
            "After fliplr (Horizontal Flip):\n",
            " [[3 2 1]\n",
            " [6 5 4]\n",
            " [9 8 7]]\n"
          ]
        }
      ]
    },
    {
      "cell_type": "code",
      "source": [
        "# flipud() (Flip Up to Down) :- Reverses the rows of an array (flips the array vertically).\n",
        "# Works on arrays with one or more dimensions.\n",
        "# Elements are flipped from top to bottom (vertically).\n",
        "# Affects axis=0 (rows).\n",
        "# Flip Up to Down\n",
        "result_flipud = np.flipud(arr)\n",
        "print(\"After flipud (Vertical Flip):\\n\", result_flipud)\n"
      ],
      "metadata": {
        "colab": {
          "base_uri": "https://localhost:8080/"
        },
        "id": "jOPLZirSJuki",
        "outputId": "6e99309d-d9ec-453d-afb6-4be8a732c7fc"
      },
      "execution_count": 20,
      "outputs": [
        {
          "output_type": "stream",
          "name": "stdout",
          "text": [
            "After flipud (Vertical Flip):\n",
            " [[7 8 9]\n",
            " [4 5 6]\n",
            " [1 2 3]]\n"
          ]
        }
      ]
    },
    {
      "cell_type": "markdown",
      "source": [
        "9)  Discuss the functionality of the array_split() method in NumPy. How does it handle uneven splits?"
      ],
      "metadata": {
        "id": "OscbJa4yuK7-"
      }
    },
    {
      "cell_type": "code",
      "source": [
        "# The numpy.array_split() function splits an array into multiple sub-arrays along a specified axis. It is more flexible than split() because it can handle uneven splits, meaning the resulting sub-arrays do not have to be of equal size.\n",
        "# Syntax :- numpy.array_split(ary, indices_or_sections, axis=0)\n",
        "import numpy as np\n",
        "\n",
        "# Create a 1D array\n",
        "arr = np.array([1, 2, 3, 4, 5, 6])\n",
        "\n",
        "# Split into 3 equal parts\n",
        "result = np.array_split(arr, 3)\n",
        "print(\"Even Split Result:\", result)\n"
      ],
      "metadata": {
        "colab": {
          "base_uri": "https://localhost:8080/"
        },
        "id": "YD_FnUCVKBpp",
        "outputId": "e483ad45-4e8b-4328-e9f8-9c429751a0aa"
      },
      "execution_count": 21,
      "outputs": [
        {
          "output_type": "stream",
          "name": "stdout",
          "text": [
            "Even Split Result: [array([1, 2]), array([3, 4]), array([5, 6])]\n"
          ]
        }
      ]
    },
    {
      "cell_type": "markdown",
      "source": [
        "10) Explain the concepts of vectorization and broadcasting in NumPy. How do they contribute to efficient array\n",
        "operations?"
      ],
      "metadata": {
        "id": "DQrkUmTduK0P"
      }
    },
    {
      "cell_type": "code",
      "source": [
        "# Vectorization and broadcasting are core features of NumPy that enable efficient numerical computations by eliminating explicit loops and leveraging optimized C-based implementations. These concepts contribute significantly to the speed and efficiency of array operations in Python.\n",
        "\n",
        "import numpy as np\n",
        "\n",
        "# Two lists\n",
        "a = [1, 2, 3, 4]\n",
        "b = [5, 6, 7, 8]\n",
        "\n",
        "# Manual element-wise addition\n",
        "result = [x + y for x, y in zip(a, b)]\n",
        "print(\"Manual Addition:\", result)\n"
      ],
      "metadata": {
        "colab": {
          "base_uri": "https://localhost:8080/"
        },
        "id": "M8G8Top-KaUG",
        "outputId": "69c15a89-43d1-496f-fa68-37d3cdcf2ccd"
      },
      "execution_count": 22,
      "outputs": [
        {
          "output_type": "stream",
          "name": "stdout",
          "text": [
            "Manual Addition: [6, 8, 10, 12]\n"
          ]
        }
      ]
    },
    {
      "cell_type": "markdown",
      "source": [
        "Practical Questions :-"
      ],
      "metadata": {
        "id": "4DXe3ScQuKru"
      }
    },
    {
      "cell_type": "markdown",
      "source": [
        "1)  Create a 3x3 NumPy array with random integers between 1 and 100. Then, interchange its rows and columns?"
      ],
      "metadata": {
        "id": "Jq_NrMyPuKgR"
      }
    },
    {
      "cell_type": "code",
      "execution_count": 23,
      "metadata": {
        "colab": {
          "base_uri": "https://localhost:8080/"
        },
        "id": "ck4PQQIDs_Bt",
        "outputId": "447a325c-02e7-44a7-b534-1b6104151f32"
      },
      "outputs": [
        {
          "output_type": "stream",
          "name": "stdout",
          "text": [
            "Original Array:\n",
            " [[93 33 90]\n",
            " [46 81 70]\n",
            " [89 95 18]]\n",
            "\n",
            "Transposed Array:\n",
            " [[93 46 89]\n",
            " [33 81 95]\n",
            " [90 70 18]]\n"
          ]
        }
      ],
      "source": [
        "import numpy as np\n",
        "\n",
        "# Create a 3x3 array with random integers between 1 and 100\n",
        "arr = np.random.randint(1, 101, size=(3, 3))\n",
        "\n",
        "# Print the original array\n",
        "print(\"Original Array:\\n\", arr)\n",
        "\n",
        "# Interchange rows and columns (Transpose the array)\n",
        "transposed_arr = arr.T\n",
        "\n",
        "# Print the transposed array\n",
        "print(\"\\nTransposed Array:\\n\", transposed_arr)\n"
      ]
    },
    {
      "cell_type": "markdown",
      "source": [
        "2)  Generate a 1D NumPy array with 10 elements. Reshape it into a 2x5 array, then into a 5x2 array?"
      ],
      "metadata": {
        "id": "20gM75MaLCM4"
      }
    },
    {
      "cell_type": "code",
      "source": [
        "import numpy as np\n",
        "\n",
        "# Generate a 1D array with 10 elements\n",
        "arr_1d = np.arange(1, 11)\n",
        "\n",
        "# Print the original 1D array\n",
        "print(\"Original 1D Array:\\n\", arr_1d)\n",
        "\n",
        "# Reshape into a 2x5 array\n",
        "arr_2x5 = arr_1d.reshape(2, 5)\n",
        "print(\"\\nReshaped to 2x5 Array:\\n\", arr_2x5)\n",
        "\n",
        "# Reshape into a 5x2 array\n",
        "arr_5x2 = arr_1d.reshape(5, 2)\n",
        "print(\"\\nReshaped to 5x2 Array:\\n\", arr_5x2)\n"
      ],
      "metadata": {
        "colab": {
          "base_uri": "https://localhost:8080/"
        },
        "id": "_LB1prgiLChN",
        "outputId": "13931d8f-2f5b-48ca-da47-fe209dcc6487"
      },
      "execution_count": 24,
      "outputs": [
        {
          "output_type": "stream",
          "name": "stdout",
          "text": [
            "Original 1D Array:\n",
            " [ 1  2  3  4  5  6  7  8  9 10]\n",
            "\n",
            "Reshaped to 2x5 Array:\n",
            " [[ 1  2  3  4  5]\n",
            " [ 6  7  8  9 10]]\n",
            "\n",
            "Reshaped to 5x2 Array:\n",
            " [[ 1  2]\n",
            " [ 3  4]\n",
            " [ 5  6]\n",
            " [ 7  8]\n",
            " [ 9 10]]\n"
          ]
        }
      ]
    },
    {
      "cell_type": "markdown",
      "source": [
        "3) Create a 4x4 NumPy array with random float values. Add a border of zeros around it, resulting in a 6x6 array?"
      ],
      "metadata": {
        "id": "K4ryNNudLPzA"
      }
    },
    {
      "cell_type": "code",
      "source": [
        "import numpy as np\n",
        "\n",
        "# Generate a 1D array with 10 elements\n",
        "arr_1d = np.arange(1, 11)\n",
        "\n",
        "# Print the original 1D array\n",
        "print(\"Original 1D Array:\\n\", arr_1d)\n",
        "\n",
        "# Reshape into a 2x5 array\n",
        "arr_2x5 = arr_1d.reshape(2, 5)\n",
        "print(\"\\nReshaped to 2x5 Array:\\n\", arr_2x5)\n",
        "\n",
        "# Reshape into a 5x2 array\n",
        "arr_5x2 = arr_1d.reshape(5, 2)\n",
        "print(\"\\nReshaped to 5x2 Array:\\n\", arr_5x2)\n",
        "\n",
        "# Create a 4x4 array with random float values\n",
        "arr_4x4 = np.random.rand(4, 4)\n",
        "print(\"\\nOriginal 4x4 Array:\\n\", arr_4x4)\n",
        "\n",
        "# Add a border of zeros to create a 6x6 array\n",
        "arr_6x6 = np.pad(arr_4x4, pad_width=1, mode='constant', constant_values=0)\n",
        "print(\"\\n6x6 Array with Zero Border:\\n\", arr_6x6)\n"
      ],
      "metadata": {
        "colab": {
          "base_uri": "https://localhost:8080/"
        },
        "id": "aGBDnQCcLQHj",
        "outputId": "8453a673-c0df-4156-8e2c-f9fc48eaa0a2"
      },
      "execution_count": 25,
      "outputs": [
        {
          "output_type": "stream",
          "name": "stdout",
          "text": [
            "Original 1D Array:\n",
            " [ 1  2  3  4  5  6  7  8  9 10]\n",
            "\n",
            "Reshaped to 2x5 Array:\n",
            " [[ 1  2  3  4  5]\n",
            " [ 6  7  8  9 10]]\n",
            "\n",
            "Reshaped to 5x2 Array:\n",
            " [[ 1  2]\n",
            " [ 3  4]\n",
            " [ 5  6]\n",
            " [ 7  8]\n",
            " [ 9 10]]\n",
            "\n",
            "Original 4x4 Array:\n",
            " [[0.18172207 0.93206183 0.05589609 0.07738293]\n",
            " [0.76819859 0.39676774 0.24895416 0.4978685 ]\n",
            " [0.53490415 0.40475315 0.81549619 0.16776719]\n",
            " [0.11747322 0.04093426 0.85827259 0.11091153]]\n",
            "\n",
            "6x6 Array with Zero Border:\n",
            " [[0.         0.         0.         0.         0.         0.        ]\n",
            " [0.         0.18172207 0.93206183 0.05589609 0.07738293 0.        ]\n",
            " [0.         0.76819859 0.39676774 0.24895416 0.4978685  0.        ]\n",
            " [0.         0.53490415 0.40475315 0.81549619 0.16776719 0.        ]\n",
            " [0.         0.11747322 0.04093426 0.85827259 0.11091153 0.        ]\n",
            " [0.         0.         0.         0.         0.         0.        ]]\n"
          ]
        }
      ]
    },
    {
      "cell_type": "markdown",
      "source": [
        "4)  Using NumPy, create an array of integers from 10 to 60 with a step of 5?"
      ],
      "metadata": {
        "id": "W7dJOZwYLQdf"
      }
    },
    {
      "cell_type": "code",
      "source": [
        "import numpy as np\n",
        "\n",
        "# Generate a 1D array with 10 elements\n",
        "arr_1d = np.arange(1, 11)\n",
        "\n",
        "# Print the original 1D array\n",
        "print(\"Original 1D Array:\\n\", arr_1d)\n",
        "\n",
        "# Reshape into a 2x5 array\n",
        "arr_2x5 = arr_1d.reshape(2, 5)\n",
        "print(\"\\nReshaped to 2x5 Array:\\n\", arr_2x5)\n",
        "\n",
        "# Reshape into a 5x2 array\n",
        "arr_5x2 = arr_1d.reshape(5, 2)\n",
        "print(\"\\nReshaped to 5x2 Array:\\n\", arr_5x2)\n",
        "\n",
        "# Create a 4x4 array with random float values\n",
        "arr_4x4 = np.random.rand(4, 4)\n",
        "print(\"\\nOriginal 4x4 Array:\\n\", arr_4x4)\n",
        "\n",
        "# Add a border of zeros to create a 6x6 array\n",
        "arr_6x6 = np.pad(arr_4x4, pad_width=1, mode='constant', constant_values=0)\n",
        "print(\"\\n6x6 Array with Zero Border:\\n\", arr_6x6)\n",
        "\n",
        "# Create an array of integers from 10 to 60 with a step of 5\n",
        "arr_step = np.arange(10, 61, 5)\n",
        "print(\"\\nArray from 10 to 60 with step of 5:\\n\", arr_step)\n"
      ],
      "metadata": {
        "colab": {
          "base_uri": "https://localhost:8080/"
        },
        "id": "GzhnZXl_LREW",
        "outputId": "ee8e2eb4-d422-4df4-f0fa-477a15a66277"
      },
      "execution_count": 26,
      "outputs": [
        {
          "output_type": "stream",
          "name": "stdout",
          "text": [
            "Original 1D Array:\n",
            " [ 1  2  3  4  5  6  7  8  9 10]\n",
            "\n",
            "Reshaped to 2x5 Array:\n",
            " [[ 1  2  3  4  5]\n",
            " [ 6  7  8  9 10]]\n",
            "\n",
            "Reshaped to 5x2 Array:\n",
            " [[ 1  2]\n",
            " [ 3  4]\n",
            " [ 5  6]\n",
            " [ 7  8]\n",
            " [ 9 10]]\n",
            "\n",
            "Original 4x4 Array:\n",
            " [[0.925158   0.09094245 0.2297494  0.30863188]\n",
            " [0.83861912 0.61187522 0.05999675 0.73693792]\n",
            " [0.14716195 0.80568704 0.01597266 0.93136468]\n",
            " [0.87107207 0.53355328 0.67882791 0.44180791]]\n",
            "\n",
            "6x6 Array with Zero Border:\n",
            " [[0.         0.         0.         0.         0.         0.        ]\n",
            " [0.         0.925158   0.09094245 0.2297494  0.30863188 0.        ]\n",
            " [0.         0.83861912 0.61187522 0.05999675 0.73693792 0.        ]\n",
            " [0.         0.14716195 0.80568704 0.01597266 0.93136468 0.        ]\n",
            " [0.         0.87107207 0.53355328 0.67882791 0.44180791 0.        ]\n",
            " [0.         0.         0.         0.         0.         0.        ]]\n",
            "\n",
            "Array from 10 to 60 with step of 5:\n",
            " [10 15 20 25 30 35 40 45 50 55 60]\n"
          ]
        }
      ]
    },
    {
      "cell_type": "markdown",
      "source": [
        "5) Create a NumPy array of strings ['python', 'numpy', 'pandas']. Apply different case transformations\n",
        "(uppercase, lowercase, title case, etc.) to each element?"
      ],
      "metadata": {
        "id": "OBuFv_0rLRmh"
      }
    },
    {
      "cell_type": "code",
      "source": [
        "import numpy as np\n",
        "\n",
        "# Create a NumPy array of strings\n",
        "arr = np.array(['python', 'numpy', 'pandas'])\n",
        "\n",
        "# Apply different case transformations\n",
        "uppercase = np.char.upper(arr)    # Convert to uppercase\n",
        "lowercase = np.char.lower(arr)    # Convert to lowercase\n",
        "titlecase = np.char.title(arr)    # Convert to title case\n",
        "capitalize = np.char.capitalize(arr)  # Capitalize the first letter\n",
        "\n",
        "# Display the results\n",
        "print(\"Original:\", arr)\n",
        "print(\"Uppercase:\", uppercase)\n",
        "print(\"Lowercase:\", lowercase)\n",
        "print(\"Titlecase:\", titlecase)\n",
        "print(\"Capitalize:\", capitalize)\n"
      ],
      "metadata": {
        "colab": {
          "base_uri": "https://localhost:8080/"
        },
        "id": "xvOPBl_KLR6u",
        "outputId": "02816903-7a52-4be2-dfe1-24833125577e"
      },
      "execution_count": 27,
      "outputs": [
        {
          "output_type": "stream",
          "name": "stdout",
          "text": [
            "Original: ['python' 'numpy' 'pandas']\n",
            "Uppercase: ['PYTHON' 'NUMPY' 'PANDAS']\n",
            "Lowercase: ['python' 'numpy' 'pandas']\n",
            "Titlecase: ['Python' 'Numpy' 'Pandas']\n",
            "Capitalize: ['Python' 'Numpy' 'Pandas']\n"
          ]
        }
      ]
    },
    {
      "cell_type": "markdown",
      "source": [
        "6) Generate a NumPy array of words. Insert a space between each character of every word in the array?"
      ],
      "metadata": {
        "id": "t7XhAeyDLSiJ"
      }
    },
    {
      "cell_type": "code",
      "source": [
        "import numpy as np\n",
        "\n",
        "# Create a NumPy array of words\n",
        "arr = np.array(['python', 'numpy', 'pandas'])\n",
        "\n",
        "# Insert a space between each character of every word\n",
        "spaced_arr = np.array([' '.join(word) for word in arr])\n",
        "\n",
        "# Display the result\n",
        "print(\"Original:\", arr)\n",
        "print(\"Spaced:\", spaced_arr)\n"
      ],
      "metadata": {
        "colab": {
          "base_uri": "https://localhost:8080/"
        },
        "id": "UhMJ7YeNLS2T",
        "outputId": "de5e1b25-4e95-4397-dcf9-13c59207780d"
      },
      "execution_count": 29,
      "outputs": [
        {
          "output_type": "stream",
          "name": "stdout",
          "text": [
            "Original: ['python' 'numpy' 'pandas']\n",
            "Spaced: ['p y t h o n' 'n u m p y' 'p a n d a s']\n"
          ]
        }
      ]
    },
    {
      "cell_type": "markdown",
      "source": [
        "7) Create two 2D NumPy arrays and perform element-wise addition, subtraction, multiplication, and division?"
      ],
      "metadata": {
        "id": "hzxl6kMCLTKU"
      }
    },
    {
      "cell_type": "code",
      "source": [
        "import numpy as np\n",
        "\n",
        "# Create two 2D NumPy arrays\n",
        "arr1 = np.array([[1, 2, 3], [4, 5, 6]])\n",
        "arr2 = np.array([[7, 8, 9], [10, 11, 12]])\n",
        "\n",
        "# Perform element-wise addition\n",
        "addition = arr1 + arr2\n",
        "\n",
        "# Perform element-wise subtraction\n",
        "subtraction = arr1 - arr2\n",
        "\n",
        "# Perform element-wise multiplication\n",
        "multiplication = arr1 * arr2\n",
        "\n",
        "# Perform element-wise division\n",
        "division = arr1 / arr2\n",
        "\n",
        "# Display the results\n",
        "print(\"Array 1:\\n\", arr1)\n",
        "print(\"Array 2:\\n\", arr2)\n",
        "print(\"Element-wise Addition:\\n\", addition)\n",
        "print(\"Element-wise Subtraction:\\n\", subtraction)\n",
        "print(\"Element-wise Multiplication:\\n\", multiplication)\n",
        "print(\"Element-wise Division:\\n\", division)\n"
      ],
      "metadata": {
        "colab": {
          "base_uri": "https://localhost:8080/"
        },
        "id": "SyUrzCblLTgk",
        "outputId": "32b6387c-e200-4b9d-c59f-a1a687246780"
      },
      "execution_count": 30,
      "outputs": [
        {
          "output_type": "stream",
          "name": "stdout",
          "text": [
            "Array 1:\n",
            " [[1 2 3]\n",
            " [4 5 6]]\n",
            "Array 2:\n",
            " [[ 7  8  9]\n",
            " [10 11 12]]\n",
            "Element-wise Addition:\n",
            " [[ 8 10 12]\n",
            " [14 16 18]]\n",
            "Element-wise Subtraction:\n",
            " [[-6 -6 -6]\n",
            " [-6 -6 -6]]\n",
            "Element-wise Multiplication:\n",
            " [[ 7 16 27]\n",
            " [40 55 72]]\n",
            "Element-wise Division:\n",
            " [[0.14285714 0.25       0.33333333]\n",
            " [0.4        0.45454545 0.5       ]]\n"
          ]
        }
      ]
    },
    {
      "cell_type": "markdown",
      "source": [
        "8) Use NumPy to create a 5x5 identity matrix, then extract its diagonal elements?"
      ],
      "metadata": {
        "id": "0aTAyzQVLT8E"
      }
    },
    {
      "cell_type": "code",
      "source": [
        "import numpy as np\n",
        "\n",
        "# Create a 5x5 identity matrix\n",
        "identity_matrix = np.eye(5)\n",
        "\n",
        "# Extract the diagonal elements\n",
        "diagonal_elements = np.diagonal(identity_matrix)\n",
        "\n",
        "# Display the results\n",
        "print(\"5x5 Identity Matrix:\\n\", identity_matrix)\n",
        "print(\"Diagonal Elements:\", diagonal_elements)\n"
      ],
      "metadata": {
        "colab": {
          "base_uri": "https://localhost:8080/"
        },
        "id": "S8-p7lJwLUXX",
        "outputId": "bfbb87b9-7d58-4076-cb2e-6442261827dc"
      },
      "execution_count": 31,
      "outputs": [
        {
          "output_type": "stream",
          "name": "stdout",
          "text": [
            "5x5 Identity Matrix:\n",
            " [[1. 0. 0. 0. 0.]\n",
            " [0. 1. 0. 0. 0.]\n",
            " [0. 0. 1. 0. 0.]\n",
            " [0. 0. 0. 1. 0.]\n",
            " [0. 0. 0. 0. 1.]]\n",
            "Diagonal Elements: [1. 1. 1. 1. 1.]\n"
          ]
        }
      ]
    },
    {
      "cell_type": "markdown",
      "source": [
        "9)  Generate a NumPy array of 100 random integers between 0 and 1000. Find and display all prime numbers in\n",
        "this array?"
      ],
      "metadata": {
        "id": "0_3NK-DrLUok"
      }
    },
    {
      "cell_type": "code",
      "source": [
        "import numpy as np\n",
        "\n",
        "# Function to check if a number is prime\n",
        "def is_prime(num):\n",
        "    if num <= 1:\n",
        "        return False\n",
        "    for i in range(2, int(num**0.5) + 1):\n",
        "        if num % i == 0:\n",
        "            return False\n",
        "    return True\n",
        "\n",
        "# Generate a NumPy array of 100 random integers between 0 and 1000\n",
        "random_array = np.random.randint(0, 1000, 100)\n",
        "\n",
        "# Find all prime numbers in the array\n",
        "prime_numbers = [num for num in random_array if is_prime(num)]\n",
        "\n",
        "# Display the results\n",
        "print(\"Random Array:\", random_array)\n",
        "print(\"Prime Numbers:\", prime_numbers)\n"
      ],
      "metadata": {
        "colab": {
          "base_uri": "https://localhost:8080/"
        },
        "id": "sfpZHR3RLU-R",
        "outputId": "89c96079-46c2-416c-c9db-166bdba6d3a0"
      },
      "execution_count": 32,
      "outputs": [
        {
          "output_type": "stream",
          "name": "stdout",
          "text": [
            "Random Array: [494 474 484 252 822 652 671 435 288 880  26  81 238  60 421 719  33 520\n",
            " 465 927 506 350 280 312  98 840 445 704 165 601 648 283 236 704 770 583\n",
            " 949 518 338 818 871 949  69 207 761 738 856 938 998 213 101 767 988 297\n",
            " 156 100 387 765 219 446 855 490 290 210 366 986 463 656 891 637  52  67\n",
            " 423 959 193 697 732 376 132 668 878 612 936 620 256 348 299 342 642 864\n",
            " 607 122 706 908 723 321 711 761 390 751]\n",
            "Prime Numbers: [421, 719, 601, 283, 761, 101, 463, 67, 193, 607, 761, 751]\n"
          ]
        }
      ]
    },
    {
      "cell_type": "markdown",
      "source": [
        "10) Create a NumPy array representing daily temperatures for a month. Calculate and display the weekly\n",
        "averages?"
      ],
      "metadata": {
        "id": "51C4SVsYLVf0"
      }
    },
    {
      "cell_type": "code",
      "source": [
        "import numpy as np\n",
        "\n",
        "# Generate a NumPy array representing daily temperatures for a month (30 days)\n",
        "# Let's use random temperatures between 15 and 30 degrees Celsius\n",
        "daily_temperatures = np.random.randint(15, 31, 30)\n",
        "\n",
        "# Reshape the array into weeks (4 full weeks + 1 partial week)\n",
        "weekly_temperatures = daily_temperatures.reshape(5, 6)\n",
        "\n",
        "# Calculate the weekly averages\n",
        "weekly_averages = weekly_temperatures.mean(axis=1)\n",
        "\n",
        "# Display the results\n",
        "print(\"Daily Temperatures for the Month:\", daily_temperatures)\n",
        "print(\"Weekly Temperatures (reshaped into weeks):\\n\", weekly_temperatures)\n",
        "print(\"Weekly Averages:\", weekly_averages)\n"
      ],
      "metadata": {
        "colab": {
          "base_uri": "https://localhost:8080/"
        },
        "id": "R4h5NML7LVyY",
        "outputId": "04558a16-fa0a-4a70-e540-0652c425b562"
      },
      "execution_count": 33,
      "outputs": [
        {
          "output_type": "stream",
          "name": "stdout",
          "text": [
            "Daily Temperatures for the Month: [26 18 25 25 21 26 23 18 18 22 21 18 18 27 21 28 15 26 28 30 18 29 22 27\n",
            " 24 24 29 22 23 16]\n",
            "Weekly Temperatures (reshaped into weeks):\n",
            " [[26 18 25 25 21 26]\n",
            " [23 18 18 22 21 18]\n",
            " [18 27 21 28 15 26]\n",
            " [28 30 18 29 22 27]\n",
            " [24 24 29 22 23 16]]\n",
            "Weekly Averages: [23.5        20.         22.5        25.66666667 23.        ]\n"
          ]
        }
      ]
    }
  ]
}